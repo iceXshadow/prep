{
 "cells": [
  {
   "cell_type": "code",
   "execution_count": null,
   "id": "ad34b5d3",
   "metadata": {},
   "outputs": [
    {
     "name": "stdout",
     "output_type": "stream",
     "text": [
      "33\n"
     ]
    }
   ],
   "source": [
    "def get_sum(a, b):\n",
    "    return a + b\n",
    "\n",
    "\n",
    "print(get_sum(10, 23))"
   ]
  },
  {
   "cell_type": "code",
   "execution_count": 3,
   "id": "343222e5",
   "metadata": {},
   "outputs": [
    {
     "name": "stdout",
     "output_type": "stream",
     "text": [
      "30\n",
      "30\n"
     ]
    }
   ],
   "source": [
    "# using lambda function\n",
    "fun = lambda a, b: a + b\n",
    "print(fun(20, 10))\n",
    "\n",
    "# one liner lambda\n",
    "\n",
    "print((lambda a, b: a + b)(10, 20))"
   ]
  },
  {
   "cell_type": "code",
   "execution_count": null,
   "id": "c184dcf3",
   "metadata": {},
   "outputs": [
    {
     "name": "stdout",
     "output_type": "stream",
     "text": [
      "even\n"
     ]
    }
   ],
   "source": [
    "def is_even_odd(n):\n",
    "    if n % 2 == 0:\n",
    "        return \"even\"\n",
    "    else:\n",
    "        return \"odd\"\n",
    "\n",
    "\n",
    "# lambda : via ternary operator\n",
    "lambda n: \"even \" if n % 2 == 0 else \"odd\"\n",
    "\n",
    "print(is_even_odd(20))"
   ]
  },
  {
   "cell_type": "code",
   "execution_count": null,
   "id": "e2af904a",
   "metadata": {},
   "outputs": [
    {
     "name": "stdout",
     "output_type": "stream",
     "text": [
      "144\n",
      "24\n"
     ]
    }
   ],
   "source": [
    "# simple calculator\n",
    "fun = lambda a, b, op: (\n",
    "    a + b if op == \"+\" else a - b if op == \"-\" else a * b if op == \"*\" else a / b\n",
    ")\n",
    "\n",
    "print(fun(12, 12, \"*\"))\n",
    "print(fun(12, 12, \"+\"))"
   ]
  },
  {
   "cell_type": "code",
   "execution_count": null,
   "id": "2b2f5a6a",
   "metadata": {},
   "outputs": [
    {
     "name": "stdout",
     "output_type": "stream",
     "text": [
      "Original list:  [[10, 500], [20, 300], [15, 600], [30, 250]]\n",
      "Sorted by default on basis of first num:  [[10, 500], [15, 600], [20, 300], [30, 250]]\n",
      "Sorted on second value using lambda func:  [[30, 250], [20, 300], [10, 500], [15, 600]]\n",
      "Sorted on product of two numbers:  [[10, 500], [20, 300], [30, 250], [15, 600]]\n"
     ]
    }
   ],
   "source": [
    "# lists\n",
    "nums = [[10, 500], [20, 300], [15, 600], [30, 250]]\n",
    "print(\"Original list: \", nums)\n",
    "\n",
    "nums.sort()  # nums.sort(reverse=True)\n",
    "print(\"Sorted by default on basis of first num: \", nums)\n",
    "\n",
    "# or sort by second element\n",
    "nums.sort(key=lambda x: x[1])\n",
    "print(\"Sorted on second value using lambda func: \", nums)\n",
    "\n",
    "# sort using product of two numbers\n",
    "nums.sort(key=lambda x: x[0] * x[1])\n",
    "print(\"Sorted on product of two numbers: \", nums)"
   ]
  },
  {
   "cell_type": "markdown",
   "id": "bb0b52e7",
   "metadata": {},
   "source": [
    "*args and **kwargs"
   ]
  },
  {
   "cell_type": "code",
   "execution_count": null,
   "id": "db1b178e",
   "metadata": {},
   "outputs": [
    {
     "ename": "TypeError",
     "evalue": "add() missing 1 required positional argument: 'c'",
     "output_type": "error",
     "traceback": [
      "\u001b[1;31m---------------------------------------------------------------------------\u001b[0m",
      "\u001b[1;31mTypeError\u001b[0m                                 Traceback (most recent call last)",
      "Cell \u001b[1;32mIn[1], line 9\u001b[0m\n\u001b[0;32m      5\u001b[0m     \u001b[38;5;28;01mreturn\u001b[39;00m a \u001b[38;5;241m+\u001b[39m b \u001b[38;5;241m+\u001b[39m c\n\u001b[0;32m      8\u001b[0m \u001b[38;5;66;03m# can we write a function that can take any number of arguments?\u001b[39;00m\n\u001b[1;32m----> 9\u001b[0m \u001b[43madd\u001b[49m\u001b[43m(\u001b[49m\u001b[38;5;241;43m10\u001b[39;49m\u001b[43m,\u001b[49m\u001b[43m \u001b[49m\u001b[38;5;241;43m20\u001b[39;49m\u001b[43m)\u001b[49m\n\u001b[0;32m     10\u001b[0m add(\u001b[38;5;241m10\u001b[39m, \u001b[38;5;241m20\u001b[39m, \u001b[38;5;241m30\u001b[39m)\n\u001b[0;32m     11\u001b[0m \u001b[38;5;66;03m# add(10, 20, 30, 40)\u001b[39;00m\n",
      "\u001b[1;31mTypeError\u001b[0m: add() missing 1 required positional argument: 'c'"
     ]
    }
   ],
   "source": [
    "# def add(a, b):\n",
    "#     return a + b\n",
    "\n",
    "# def add(a, b, c):\n",
    "#     return a + b + c\n",
    "\n",
    "\n",
    "# # can we write a function that can take any number of arguments?\n",
    "# add(10, 20)\n",
    "# add(10, 20, 30)\n",
    "# # add(10, 20, 30, 40)"
   ]
  },
  {
   "cell_type": "markdown",
   "id": "da6f95d5",
   "metadata": {},
   "source": [
    "The above type error is due to -> when we redeclare a fun with same name in python, it discards the prev declaration and considers the new"
   ]
  },
  {
   "cell_type": "code",
   "execution_count": null,
   "id": "939b85ad",
   "metadata": {},
   "outputs": [
    {
     "name": "stdout",
     "output_type": "stream",
     "text": [
      "30\n",
      "60\n",
      "100\n"
     ]
    }
   ],
   "source": [
    "def add(*args):\n",
    "    total = 0\n",
    "    for num in args:\n",
    "        total += num\n",
    "    return total\n",
    "\n",
    "\n",
    "# using *args to accept any number of arguments\n",
    "# *args allows us to pass a variable number of arguments to a function\n",
    "print(add(10, 20))\n",
    "print(add(10, 20, 30))\n",
    "print(add(10, 20, 30, 40))"
   ]
  },
  {
   "cell_type": "code",
   "execution_count": null,
   "id": "5ec43d71",
   "metadata": {},
   "outputs": [
    {
     "name": "stdout",
     "output_type": "stream",
     "text": [
      "Name: John\n",
      "Age: 30\n",
      "Balance: 3000\n",
      "Using named parameters: \n",
      "Name: John\n",
      "Age: 30\n",
      "Balance: 3000\n",
      "Mixing named and unnamed parameters: \n",
      "Name: John\n",
      "Age: 30\n",
      "Balance: 3000\n",
      "Using **kwargs: \n",
      "<class 'dict'>\n",
      "{'name': 'John', 'age': 30, 'amt1': 1000, 'amt2': 2000}\n",
      "Using *args and **kwargs: \n",
      "Args: (1000, 2000)\n",
      "Kwargs: {'name': 'John', 'age': 30}\n"
     ]
    }
   ],
   "source": [
    "# named parameters\n",
    "\n",
    "\n",
    "def print_info(amt1, amt2, name, age):\n",
    "    print(f\"Name: {name}\")\n",
    "    print(f\"Age: {age}\")\n",
    "    print(f\"Balance: {amt1 + amt2}\")\n",
    "\n",
    "\n",
    "# unnamed parameters/positional arguments\n",
    "print_info(1000, 2000, \"John\", 30)\n",
    "# named parameters/keyword arguments allow us to pass arguments in any order\n",
    "print(\"Using named parameters: \")\n",
    "print_info(name=\"John\", age=30, amt2=2000, amt1=1000)\n",
    "\n",
    "# but we can also mix named and unnamed parameters -> but we have to pass unnamed parameters first\n",
    "print(\"Mixing named and unnamed parameters: \")\n",
    "print_info(1000, 2000, age=30, name=\"John\")\n",
    "\n",
    "\n",
    "# using **kwargs to accept named parameters\n",
    "def print_info_kwargs(**kwargs):\n",
    "    # print(f\"Name: {kwargs['name']}\")\n",
    "    # print(f\"Age: {kwargs['age']}\")\n",
    "    # print(f\"Balance: {kwargs['amt1'] + kwargs['amt2']}\")\n",
    "    print(type(kwargs))  # kwargs is a dictionary\n",
    "    print(kwargs)\n",
    "\n",
    "\n",
    "# using **kwargs to accept any number of named parameters\n",
    "print(\"Using **kwargs: \")\n",
    "print_info_kwargs(name=\"John\", age=30, amt1=1000, amt2=2000)\n",
    "\n",
    "print(\"Using *args and **kwargs: \")\n",
    "\n",
    "\n",
    "def print_info_args_kwargs(*args, **kwargs):\n",
    "    print(f\"Args: {args}\")  # args is a tuple -> unnamed parameters\n",
    "    print(f\"Kwargs: {kwargs}\")  # kwargs is a dictionary -> named parameters\n",
    "\n",
    "\n",
    "print_info_args_kwargs(1000, 2000, name=\"John\", age=30)"
   ]
  },
  {
   "cell_type": "code",
   "execution_count": 12,
   "id": "8d181e56",
   "metadata": {},
   "outputs": [
    {
     "name": "stdout",
     "output_type": "stream",
     "text": [
      "10 20 30\n",
      "10 20 30 [40, 50]\n"
     ]
    }
   ],
   "source": [
    "arr = [10, 20, 30]\n",
    "n1, n2, n3 = arr  # unpacking the list into variables\n",
    "print(n1, n2, n3)\n",
    "# unpacking allows us to assign values from a list or tuple to multiple variables in a single line\n",
    "# this is useful when we want to extract multiple values from a list or tuple without using indexing\n",
    "arr = [10, 20, 30, 40, 50]\n",
    "n1, n2, n3, *rest = arr  # unpacking with rest\n",
    "print(n1, n2, n3, rest)  # rest will contain the remaining"
   ]
  },
  {
   "cell_type": "markdown",
   "id": "382addce",
   "metadata": {},
   "source": [
    "- Note:\n",
    "    - in list/tuple unpacking the sequence of values remains unchanged\n",
    "    - in set unpacking the sequence of values may change"
   ]
  },
  {
   "cell_type": "code",
   "execution_count": 14,
   "id": "aef4dcdf",
   "metadata": {},
   "outputs": [
    {
     "name": "stdout",
     "output_type": "stream",
     "text": [
      "name age\n",
      "('name', 'John') ('age', 30)\n"
     ]
    }
   ],
   "source": [
    "info = {\"name\": \"John\", \"age\": 30\n",
    "}\n",
    "v1, v2 = info\n",
    "print(v1, v2)  # v1 and v2 will contain the keys of the dictionary\n",
    "v1, v2 = info.items();\n",
    "print(v1, v2)  # v1 and v2 will contain the key-value pairs of the dictionary"
   ]
  },
  {
   "cell_type": "code",
   "execution_count": 17,
   "id": "92e03ae6",
   "metadata": {},
   "outputs": [
    {
     "name": "stdout",
     "output_type": "stream",
     "text": [
      "[10, 20, 30, 40, 50, 60]\n",
      "Using extend:  [10, 20, 30, 40, 50, 60]\n",
      "Using unpacking:  [10, 20, 30, 40, 50, 60]\n"
     ]
    }
   ],
   "source": [
    "# merging of collections\n",
    "\n",
    "nums1 = [10, 20, 30]\n",
    "nums2 = [40, 50, 60]\n",
    "nums3 = nums1 + nums2  # merging two lists\n",
    "print(nums3)\n",
    "\n",
    "nums_ = nums1.copy()  # copying the list\n",
    "nums_.extend(nums2)  # merging two lists using extend\n",
    "print(\"Using extend: \" , nums_)\n",
    "\n",
    "nums_all = [*nums1, *nums2]  # merging two lists using unpacking\n",
    "print(\"Using unpacking: \", nums_all)"
   ]
  },
  {
   "cell_type": "markdown",
   "id": "a6d21ff5",
   "metadata": {},
   "source": [
    "#### Generators and Iterators:"
   ]
  },
  {
   "cell_type": "code",
   "execution_count": 18,
   "id": "43d01c2b",
   "metadata": {},
   "outputs": [
    {
     "name": "stdout",
     "output_type": "stream",
     "text": [
      "0 1 2 3 4 5 6 7 8 9 "
     ]
    }
   ],
   "source": [
    "# generators =>\n",
    "\n",
    "for i in range(10):\n",
    "    print(i, end=\" \")"
   ]
  },
  {
   "cell_type": "code",
   "execution_count": 24,
   "id": "9a897283",
   "metadata": {},
   "outputs": [
    {
     "name": "stdout",
     "output_type": "stream",
     "text": [
      "28\n",
      "<class 'generator'>\n",
      "0 1 2 3 4 5 6 7 8 9 "
     ]
    }
   ],
   "source": [
    "i = 10\n",
    "print(i.__sizeof__())  # size of the variable in bytes\n",
    "## __ : double underscore is used to denote special methods in Python\n",
    "# these methods are also known as dunder methods (double underscore methods)\n",
    "# they are used to define the behavior of objects in Python\n",
    "# for example, __init__ is used to initialize an object, __str__ is used\n",
    "# to convert an object to a string, __add__ is used to add two objects, etc.\n",
    "\n",
    "\n",
    "# yield is used to create a generator function\n",
    "def my_generator():\n",
    "    for i in range(10):\n",
    "        yield i  # yield returns a value and pauses the function, allowing it to be resumed later\n",
    "gen = my_generator()  # creating a generator object\n",
    "print(type(gen))  # <class 'generator'>\n",
    "for i in gen:  # iterating over the generator object\n",
    "    print(i, end=\" \")  # prints 0 1 2 3 4 5 6 7 8 9\n",
    "# generators are used to create iterators in Python"
   ]
  },
  {
   "cell_type": "code",
   "execution_count": 9,
   "id": "ddad2e9d",
   "metadata": {},
   "outputs": [
    {
     "name": "stdout",
     "output_type": "stream",
     "text": [
      "1 2 3 4 5 6 7 8 9 10 11 12 13 14 15 16 17 18 19 20 21 22 23 24 25 26 27 28 29 30 "
     ]
    }
   ],
   "source": [
    "# infinite number generator\n",
    "def infinite_generator():\n",
    "    i = 1\n",
    "    while True:  # infinite loop\n",
    "        yield i \n",
    "        i += 1\n",
    "\n",
    "gen = infinite_generator()\n",
    "for i in range(30):\n",
    "    print(next(gen), end=\" \")\n",
    "\n",
    "\n"
   ]
  },
  {
   "cell_type": "code",
   "execution_count": 19,
   "id": "cbd66031",
   "metadata": {},
   "outputs": [
    {
     "name": "stdout",
     "output_type": "stream",
     "text": [
      "0.0\n",
      "0.1\n",
      "0.2\n",
      "0.3\n",
      "0.4\n",
      "0.5\n",
      "0.6\n",
      "0.7\n",
      "0.8\n",
      "0.9\n",
      "1.0\n",
      "1.1\n",
      "1.2\n",
      "1.3\n",
      "1.4\n",
      "1.5\n",
      "1.6\n",
      "1.7\n",
      "1.8\n",
      "1.9\n"
     ]
    }
   ],
   "source": [
    "# my range generator that can give fractional range\n",
    "def my_range(st, en, step=1):\n",
    "    i = st\n",
    "    while i < en:\n",
    "        yield i\n",
    "        i += step\n",
    "\n",
    "\n",
    "for i in my_range(0, 2, 0.1):\n",
    "    print(f\"{i:.1f}\")"
   ]
  },
  {
   "cell_type": "markdown",
   "id": "af0a1db5",
   "metadata": {},
   "source": [
    "##### Custom Iterator Class"
   ]
  },
  {
   "cell_type": "code",
   "execution_count": null,
   "id": "af0a1db5",
   "metadata": {},
   "outputs": [
    {
     "name": "stdout",
     "output_type": "stream",
     "text": [
      "10 11 12 13 14 15 16 17 18 "
     ]
    }
   ],
   "source": [
    "class MyIterator:\n",
    "    def __init__(self, st, en):\n",
    "        self.st = st\n",
    "        self.en = en\n",
    "        self.curr = st - 1\n",
    "    \n",
    "    # This class implements an iterator that iterates from st to en (exclusive)\n",
    "    # It uses the iterator protocol with __iter__ and __next__ methods. (if these methods are not defined, the class will not be an iterator)\n",
    "    def __iter__(self):\n",
    "        return self\n",
    "    \n",
    "    def __next__(self):\n",
    "        if self.curr + 1 < self.en:\n",
    "            val = self.curr\n",
    "            self.curr += 1\n",
    "            return val\n",
    "        else:\n",
    "            raise StopIteration\n",
    "\n",
    "\n",
    "for i in MyIterator(11, 20):\n",
    "    print(i, end=\" \")"
   ]
  }
 ],
 "metadata": {
  "kernelspec": {
   "display_name": "Python 3",
   "language": "python",
   "name": "python3"
  },
  "language_info": {
   "codemirror_mode": {
    "name": "ipython",
    "version": 3
   },
   "file_extension": ".py",
   "mimetype": "text/x-python",
   "name": "python",
   "nbconvert_exporter": "python",
   "pygments_lexer": "ipython3",
   "version": "3.12.3"
  }
 },
 "nbformat": 4,
 "nbformat_minor": 5
}
