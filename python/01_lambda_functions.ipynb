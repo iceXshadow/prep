{
 "cells": [
  {
   "cell_type": "markdown",
   "id": "8a467e22",
   "metadata": {},
   "source": [
    "# Lambda Functions in Python\n",
    "\n",
    "This notebook covers lambda functions, anonymous functions that can have any number of arguments but only one expression."
   ]
  },
  {
   "cell_type": "markdown",
   "id": "e0bdf29c",
   "metadata": {},
   "source": [
    "## Basic Lambda vs Regular Function"
   ]
  },
  {
   "cell_type": "code",
   "execution_count": null,
   "id": "d62d1eda",
   "metadata": {},
   "outputs": [],
   "source": [
    "def get_sum(a, b):\n",
    "    return a + b\n",
    "\n",
    "\n",
    "print(get_sum(10, 23))"
   ]
  },
  {
   "cell_type": "code",
   "execution_count": null,
   "id": "e7feb493",
   "metadata": {},
   "outputs": [],
   "source": [
    "# using lambda function\n",
    "fun = lambda a, b: a + b\n",
    "print(fun(20, 10))\n",
    "\n",
    "# one liner lambda\n",
    "\n",
    "print((lambda a, b: a + b)(10, 20))"
   ]
  },
  {
   "cell_type": "markdown",
   "id": "812b0a79",
   "metadata": {},
   "source": [
    "## Lambda with Conditional Logic"
   ]
  },
  {
   "cell_type": "code",
   "execution_count": null,
   "id": "e14c4fc6",
   "metadata": {},
   "outputs": [],
   "source": [
    "def is_even_odd(n):\n",
    "    if n % 2 == 0:\n",
    "        return \"even\"\n",
    "    else:\n",
    "        return \"odd\"\n",
    "\n",
    "\n",
    "# lambda : via ternary operator\n",
    "lambda n: \"even \" if n % 2 == 0 else \"odd\"\n",
    "\n",
    "print(is_even_odd(20))"
   ]
  },
  {
   "cell_type": "markdown",
   "id": "3b9e2fd7",
   "metadata": {},
   "source": [
    "## Complex Lambda - Simple Calculator"
   ]
  },
  {
   "cell_type": "code",
   "execution_count": null,
   "id": "7a62dcfb",
   "metadata": {},
   "outputs": [],
   "source": [
    "# simple calculator\n",
    "fun = lambda a, b, op: (\n",
    "    a + b if op == \"+\" else a - b if op == \"-\" else a * b if op == \"*\" else a / b\n",
    ")\n",
    "\n",
    "print(fun(12, 12, \"*\"))\n",
    "print(fun(12, 12, \"+\"))"
   ]
  },
  {
   "cell_type": "markdown",
   "id": "a991da99",
   "metadata": {},
   "source": [
    "## Lambda with Data Structures - Sorting Lists"
   ]
  },
  {
   "cell_type": "code",
   "execution_count": null,
   "id": "6ff55573",
   "metadata": {},
   "outputs": [],
   "source": [
    "# lists\n",
    "nums = [[10, 500], [20, 300], [15, 600], [30, 250]]\n",
    "print(\"Original list: \", nums)\n",
    "\n",
    "nums.sort()  # nums.sort(reverse=True)\n",
    "print(\"Sorted by default on basis of first num: \", nums)\n",
    "\n",
    "# or sort by second element\n",
    "nums.sort(key=lambda x: x[1])\n",
    "print(\"Sorted on second value using lambda func: \", nums)\n",
    "\n",
    "# sort using product of two numbers\n",
    "nums.sort(key=lambda x: x[0] * x[1])\n",
    "print(\"Sorted on product of two numbers: \", nums)"
   ]
  },
  {
   "cell_type": "markdown",
   "id": "dd0bd94b",
   "metadata": {},
   "source": [
    "---\n",
    "\n",
    "## Lambda Functions - Detailed Explanation\n",
    "\n",
    "Lambda functions are anonymous functions in Python that can have any number of arguments but can only have one expression. They are also known as anonymous functions because they don't have a name like regular functions defined with the `def` keyword.\n",
    "\n",
    "### Syntax:\n",
    "```python\n",
    "lambda arguments: expression\n",
    "```\n",
    "\n",
    "### Key Points:\n",
    "\n",
    "1. **Anonymous Nature**: Lambda functions don't have a name and are typically used for short, simple operations.\n",
    "\n",
    "2. **Single Expression**: Unlike regular functions, lambda functions can only contain a single expression. They cannot contain statements like `print`, `return`, etc.\n",
    "\n",
    "3. **Return Value**: Lambda functions automatically return the result of their expression.\n",
    "\n",
    "4. **Common Use Cases**:\n",
    "   - As arguments to higher-order functions like `map()`, `filter()`, `sort()`\n",
    "   - For short, simple operations that don't warrant a full function definition\n",
    "   - Event handling in GUI applications\n",
    "\n",
    "5. **Limitations**:\n",
    "   - Can only contain expressions, not statements\n",
    "   - Limited to a single line\n",
    "   - Less readable for complex logic\n",
    "   - Cannot contain annotations\n",
    "\n",
    "### When to Use Lambda:\n",
    "- For simple, one-line functions\n",
    "- As arguments to functions like `map()`, `filter()`, `sort()`\n",
    "- When you need a function temporarily and don't want to define a full function\n",
    "\n",
    "### When NOT to Use Lambda:\n",
    "- For complex logic that spans multiple lines\n",
    "- When the function will be used multiple times (better to define a regular function)\n",
    "- When readability is more important than brevity\n",
    "\n",
    "### Performance:\n",
    "Lambda functions have similar performance to regular functions. The choice between them should be based on readability and use case rather than performance.\n",
    "\n",
    "### Examples from Above:\n",
    "- **Basic lambda**: `lambda a, b: a + b` - Simple addition\n",
    "- **Conditional lambda**: `lambda n: \"even\" if n % 2 == 0 else \"odd\"` - Using ternary operator\n",
    "- **Complex lambda**: Calculator with multiple conditions\n",
    "- **Lambda with sorting**: Using lambda as key function for custom sorting logic"
   ]
  }
 ],
 "metadata": {
  "language_info": {
   "name": "python"
  }
 },
 "nbformat": 4,
 "nbformat_minor": 5
}
