{
 "cells": [
  {
   "cell_type": "markdown",
   "id": "36ab1783",
   "metadata": {},
   "source": [
    "# Unpacking and Merging Collections in Python\n",
    "\n",
    "This notebook covers unpacking sequences and merging collections in Python."
   ]
  },
  {
   "cell_type": "markdown",
   "id": "34edee59",
   "metadata": {},
   "source": [
    "## Basic Unpacking"
   ]
  },
  {
   "cell_type": "code",
   "execution_count": null,
   "id": "22e80b10",
   "metadata": {},
   "outputs": [],
   "source": [
    "arr = [10, 20, 30]\n",
    "n1, n2, n3 = arr  # unpacking the list into variables\n",
    "print(n1, n2, n3)\n",
    "# unpacking allows us to assign values from a list or tuple to multiple variables in a single line\n",
    "# this is useful when we want to extract multiple values from a list or tuple without using indexing\n",
    "arr = [10, 20, 30, 40, 50]\n",
    "n1, n2, n3, *rest = arr  # unpacking with rest\n",
    "print(n1, n2, n3, rest)  # rest will contain the remaining"
   ]
  },
  {
   "cell_type": "markdown",
   "id": "97f66f2f",
   "metadata": {},
   "source": [
    "- Note:\n",
    "    - in list/tuple unpacking the sequence of values remains unchanged\n",
    "    - in set unpacking the sequence of values may change"
   ]
  },
  {
   "cell_type": "markdown",
   "id": "470ce6cc",
   "metadata": {},
   "source": [
    "## Dictionary Unpacking"
   ]
  },
  {
   "cell_type": "code",
   "execution_count": null,
   "id": "a6e8015e",
   "metadata": {},
   "outputs": [],
   "source": [
    "info = {\"name\": \"John\", \"age\": 30\n",
    "}\n",
    "v1, v2 = info\n",
    "print(v1, v2)  # v1 and v2 will contain the keys of the dictionary\n",
    "v1, v2 = info.items();\n",
    "print(v1, v2)  # v1 and v2 will contain the key-value pairs of the dictionary"
   ]
  },
  {
   "cell_type": "markdown",
   "id": "d62802c6",
   "metadata": {},
   "source": [
    "## Merging Collections"
   ]
  },
  {
   "cell_type": "code",
   "execution_count": null,
   "id": "1988b444",
   "metadata": {},
   "outputs": [],
   "source": [
    "# merging of collections\n",
    "\n",
    "nums1 = [10, 20, 30]\n",
    "nums2 = [40, 50, 60]\n",
    "nums3 = nums1 + nums2  # merging two lists\n",
    "print(nums3)\n",
    "\n",
    "nums_ = nums1.copy()  # copying the list\n",
    "nums_.extend(nums2)  # merging two lists using extend\n",
    "print(\"Using extend: \" , nums_)\n",
    "\n",
    "nums_all = [*nums1, *nums2]  # merging two lists using unpacking\n",
    "print(\"Using unpacking: \", nums_all)"
   ]
  },
  {
   "cell_type": "markdown",
   "id": "72e37e9f",
   "metadata": {},
   "source": [
    "---\n",
    "\n",
    "## Unpacking and Merging - Detailed Explanation\n",
    "\n",
    "### Unpacking in Python\n",
    "\n",
    "Unpacking is a powerful feature in Python that allows you to extract values from sequences (lists, tuples, strings) and assign them to multiple variables in a single operation.\n",
    "\n",
    "#### Basic Unpacking\n",
    "\n",
    "**Syntax:**\n",
    "```python\n",
    "var1, var2, var3 = sequence\n",
    "```\n",
    "\n",
    "**Key Points:**\n",
    "- The number of variables must match the number of elements in the sequence\n",
    "- Works with lists, tuples, strings, and other iterable objects\n",
    "- Maintains the order of elements\n",
    "\n",
    "#### Extended Unpacking (Python 3+)\n",
    "\n",
    "**Syntax:**\n",
    "```python\n",
    "var1, var2, *rest = sequence\n",
    "```\n",
    "\n",
    "**Features:**\n",
    "- Use `*variable` to collect remaining elements\n",
    "- Can be used at the beginning, middle, or end\n",
    "- The starred variable becomes a list\n",
    "\n",
    "#### Dictionary Unpacking\n",
    "\n",
    "**Key Points:**\n",
    "- Unpacking a dictionary directly gives you the keys\n",
    "- Use `.items()` to get key-value pairs\n",
    "- Use `.values()` to get just the values\n",
    "\n",
    "**Order Considerations:**\n",
    "- **Lists/Tuples**: Order is preserved\n",
    "- **Sets**: Order is not guaranteed (sets are unordered)\n",
    "- **Dictionaries**: Order is preserved in Python 3.7+\n",
    "\n",
    "### Merging Collections\n",
    "\n",
    "There are several ways to merge collections in Python:\n",
    "\n",
    "#### 1. Using + Operator\n",
    "```python\n",
    "result = list1 + list2\n",
    "```\n",
    "- Creates a new list\n",
    "- Works with lists, tuples, strings\n",
    "- Does not modify original lists\n",
    "\n",
    "#### 2. Using extend() Method\n",
    "```python\n",
    "list1.extend(list2)\n",
    "```\n",
    "- Modifies the original list\n",
    "- More memory efficient for large lists\n",
    "- Only works with lists\n",
    "\n",
    "#### 3. Using Unpacking (Python 3.5+)\n",
    "```python\n",
    "result = [*list1, *list2]\n",
    "```\n",
    "- Very readable and flexible\n",
    "- Can merge multiple collections at once\n",
    "- Works with any iterable\n",
    "\n",
    "### Use Cases\n",
    "\n",
    "**Unpacking:**\n",
    "- Function return values with multiple elements\n",
    "- Swapping variables: `a, b = b, a`\n",
    "- Processing coordinate pairs: `x, y = point`\n",
    "- Separating head and tail of sequences\n",
    "\n",
    "**Merging:**\n",
    "- Combining data from different sources\n",
    "- Creating larger datasets\n",
    "- Flattening nested structures\n",
    "\n",
    "### Performance Considerations\n",
    "\n",
    "- **extend()**: Most efficient for appending to existing list\n",
    "- **+ operator**: Good for creating new lists, but creates copies\n",
    "- **Unpacking**: Modern and readable, good performance\n",
    "\n",
    "### Best Practices\n",
    "\n",
    "1. Use unpacking for clear, readable code\n",
    "2. Be mindful of sequence length when unpacking\n",
    "3. Use extended unpacking (`*rest`) when you need flexibility\n",
    "4. Choose merging method based on whether you need to modify original data\n",
    "5. Consider memory usage with large collections\n",
    "\n",
    "### Examples from Above:\n",
    "- **Basic unpacking**: `n1, n2, n3 = arr` - Simple variable assignment\n",
    "- **Extended unpacking**: `n1, n2, n3, *rest = arr` - Handle variable-length sequences\n",
    "- **Dictionary unpacking**: Different ways to extract data from dictionaries\n",
    "- **Collection merging**: Multiple methods to combine lists"
   ]
  }
 ],
 "metadata": {
  "language_info": {
   "name": "python"
  }
 },
 "nbformat": 4,
 "nbformat_minor": 5
}
